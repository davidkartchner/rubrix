{
 "cells": [
  {
   "cell_type": "code",
   "execution_count": null,
   "metadata": {},
   "outputs": [],
   "source": [
    "import yaml\n",
    "import sys\n",
    "\n",
    "import pandas as pd\n",
    "import numpy as np\n",
    "import rubrix as rb\n",
    "\n",
    "from yaml import Loader\n",
    "\n",
    "sys.path.insert(0, '../')\n",
    "from ids import rubrix_api_key\n",
    "from tqdm.auto import tqdm\n",
    "from collections import defaultdict\n",
    "\n",
    "\n",
    "pd.set_option('display.max_colwidth', 100)\n",
    "rb.init(\"http://localhost:6900/\", api_key=rubrix_api_key)"
   ]
  }
 ],
 "metadata": {
  "language_info": {
   "name": "python"
  },
  "orig_nbformat": 4
 },
 "nbformat": 4,
 "nbformat_minor": 2
}

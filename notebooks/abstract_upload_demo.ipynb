{
 "cells": [
  {
   "cell_type": "code",
   "execution_count": 10,
   "metadata": {},
   "outputs": [],
   "source": [
    "# Imports\n",
    "import yaml\n",
    "import sys\n",
    "\n",
    "import pandas as pd\n",
    "import numpy as np\n",
    "import rubrix as rb\n",
    "\n",
    "from yaml import Loader\n",
    "\n",
    "sys.path.insert(0, '../')\n",
    "from ids import rubrix_api_key\n",
    "from tqdm.auto import tqdm\n",
    "from collections import defaultdict\n",
    "\n",
    "\n",
    "pd.set_option('display.max_colwidth', 100)\n",
    "rb.init(\"http://localhost:6900/\", api_key=rubrix_api_key)\n",
    "\n",
    "\n"
   ]
  },
  {
   "cell_type": "code",
   "execution_count": 3,
   "metadata": {},
   "outputs": [],
   "source": [
    "# Load users\n",
    "users = yaml.load(open('../.users.yaml','r'), Loader)\n",
    "active_users = set([u['username'] for u in users if 'credits' in u])\n",
    "u2cred = {u['username']: u['credits'] for u in users if 'credits' in u}\n",
    "\n",
    "# Specify how many classes should be present in data\n",
    "n_classes = 5\n",
    "\n",
    "# Fix the index of each class\n",
    "label_to_class_num = {'study_drug': 0, 'target_disease': 1, 'control_group': 2,  'population_size': 3, 'quantitative_effect_measure': 4}\n",
    "class_num_to_label = {i:l for l, i in label_to_class_num.items()}"
   ]
  },
  {
   "cell_type": "code",
   "execution_count": 4,
   "metadata": {},
   "outputs": [
    {
     "data": {
      "application/vnd.jupyter.widget-view+json": {
       "model_id": "8b5657e5f1124702a1710173afcfb132",
       "version_major": 2,
       "version_minor": 0
      },
      "text/plain": [
       "  0%|          | 0/26 [00:00<?, ?it/s]"
      ]
     },
     "metadata": {},
     "output_type": "display_data"
    }
   ],
   "source": [
    "dfs = []\n",
    "for user in tqdm(users):\n",
    "    if 'credits' not in user:\n",
    "        continue\n",
    "    \n",
    "    dataset_name = [x for x in user['workspaces'] if x.startswith('cancer_stage_1')][0]\n",
    "    qc_dataset_names = [x for x in user['workspaces'] if x.startswith('qc_stage_1')]\n",
    "    # print(dataset_name)\n",
    "    df = rb.load(name=dataset_name)\n",
    "    qc_dfs = [rb.load(name=qc_name) for qc_name in qc_dataset_names]\n",
    "    dfs.append(df)\n",
    "    dfs.extend(qc_dfs)\n",
    "    # print(df.status.value_counts())\n",
    "    # print('------------------------')\n",
    "\n",
    "\n",
    "# Concatenate all user-level dfs together \n",
    "all_abstracts = pd.concat(dfs)"
   ]
  },
  {
   "cell_type": "code",
   "execution_count": 7,
   "metadata": {},
   "outputs": [],
   "source": [
    "# Add relevant text fields\n",
    "all_abstracts['pmid'] = all_abstracts['metadata'].map(lambda x: x['pmid'])\n",
    "all_abstracts['text'] = all_abstracts['inputs'].map(lambda x: x['text'])\n",
    "all_abstracts.groupby('pmid').agg({'annotation_agent':'nunique', 'text':'nunique'}).sort_values(by='text').tail(50)\n",
    "\n",
    "# Filter by annotated abstracts\n",
    "all_abstracts = all_abstracts.query('status == \"Validated\"')\n",
    "\n",
    "# Get all used labels\n",
    "all_annotated_labels = set([x for labels in all_abstracts['annotation'] for x in labels])\n",
    "\n",
    "# Get unique, reproducible label vector for each abstract\n",
    "# label_to_class_num = {l:i for i, l in enumerate(all_annotated_labels)}\n",
    "\n",
    "# print(label_to_class_num)\n",
    "all_abstracts['labels'] = all_abstracts['annotation'].map(lambda x: np.array([1 if class_num_to_label[i] in x else 0 \n",
    "                                                        for i in range(n_classes)]))\n",
    "all_abstracts['label_tuple'] = all_abstracts['labels'].map(lambda x: tuple(x))\n",
    "df = all_abstracts[['pmid','annotation_agent','label_tuple','text']].drop_duplicates()\n"
   ]
  },
  {
   "cell_type": "code",
   "execution_count": null,
   "metadata": {},
   "outputs": [],
   "source": []
  },
  {
   "cell_type": "code",
   "execution_count": 15,
   "metadata": {},
   "outputs": [],
   "source": [
    "# Cutoff for proportion agreement to call correct\n",
    "CUTOFF = .75\n",
    "\n",
    "# Get data on who annotated each abstract, as well how many unique annotation patterns were used\n",
    "pmid_label_counts = df.groupby(['pmid', 'label_tuple']).agg(annotation_agent=('annotation_agent', lambda x: set([a for a in x])), \n",
    "                                                                text=('text','first')).reset_index()\n",
    "pmid_label_counts['num_annotators'] = pmid_label_counts['annotation_agent'].map(lambda x: len(x))\n",
    "\n",
    "# Get counts of how many times each PMID was annotated and who annotated it\n",
    "# Also get lists of who has NOT annotated each PMID\n",
    "already_assigned = df.groupby('pmid').agg({'annotation_agent':lambda x: set([a for a in x])}).to_dict()['annotation_agent']\n",
    "pmid_counts = {k:len(v) for k, v in already_assigned.items()}\n",
    "possible_assignees = {pmid: active_users - prev for pmid, prev in already_assigned.items()}\n",
    "\n",
    "# Abstract is \"correct\" if at least 2/3 of annotators agreed on it.\n",
    "pmid_label_counts['total'] = pmid_label_counts['pmid'].map(pmid_counts)\n",
    "pmid_label_counts['proportion'] = pmid_label_counts['num_annotators']/pmid_label_counts['total']\n",
    "correct_pmids = set(pmid_label_counts.query('(proportion >= @CUTOFF) & (num_annotators > 1)').pmid.tolist())\n",
    "qc_pmids = set([pmid for pmid in pmid_label_counts.pmid if pmid not in correct_pmids])\n",
    "\n",
    "# Pick 25 \"hardest\" PMIDs \n",
    "# Hardest = most distint annotations divided by number of total annotators\n",
    "difficulty = pmid_label_counts.groupby('pmid').agg(distinct_annotations=('proportion','count'), total_annotators=('num_annotators','sum')).reset_index()\n",
    "difficulty['score'] = difficulty['distinct_annotations']/difficulty['total_annotators']\n",
    "# test_pmids = difficulty.sort_values(by=['score', 'distinct_annotations'],ascending=False).head(25).pmid.tolist()\n",
    "\n",
    "# Also pick 25 pmids with high disagreement (or only one annotation) and assign to everyone\n",
    "test_pmids = difficulty.query('score == 1').sample(25).pmid.tolist()\n",
    "\n",
    "\n",
    "# Randomly assign 2 new annotators to QC abstracts\n",
    "qc_df = all_abstracts.loc[all_abstracts.pmid.map(lambda x: x in qc_pmids), \n",
    "               ['pmid','prediction','multi_label','metadata','text']].groupby('pmid').agg('first').reset_index()\n",
    "qc_df['possible_assignees'] = qc_df['pmid'].map(lambda x: list(possible_assignees[x]))\n",
    "qc_df['assigned'] = qc_df['possible_assignees'].map(lambda x: sorted(np.random.choice(x, \n",
    "                                                                                      size=2, \n",
    "                                                                                      p=np.array([u2cred[i] for i in x], dtype=float)/np.array([u2cred[i] for i in x]).sum())))\n",
    "all_users = list(active_users) + ['haydnturner','dongyu_zhang','davidkartchner']\n",
    "# qc_df.loc[qc_df['pmid'].map(lambda x: x in test_pmids), 'assigned'] = pd.Series([list(active_users) + ['haydnturner','dongyu_zhang','davidkartchner'] for _ in test_pmids])\n",
    "qc_df['assigned'] = qc_df[['pmid','assigned']].apply(lambda x: all_users if x[0] in test_pmids else x[1], axis=1)\n"
   ]
  },
  {
   "cell_type": "code",
   "execution_count": 16,
   "metadata": {},
   "outputs": [
    {
     "data": {
      "text/plain": [
       "1242"
      ]
     },
     "execution_count": 16,
     "metadata": {},
     "output_type": "execute_result"
    }
   ],
   "source": [
    "len(correct_pmids)"
   ]
  },
  {
   "cell_type": "code",
   "execution_count": 12,
   "metadata": {},
   "outputs": [],
   "source": [
    "# Keep a list of \"correct\" annotations\n",
    "len(correct_pmids)\n",
    "with open('/nethome/dkartchner3/annotation/rubrix/pmid_logs/correct.txt', 'a') as f:\n",
    "    for pmid in correct_pmids:\n",
    "        f.write(str(pmid))\n",
    "        f.write('\\n')\n",
    "\n"
   ]
  },
  {
   "cell_type": "code",
   "execution_count": 13,
   "metadata": {},
   "outputs": [],
   "source": [
    "# Make dictionary of assignments for users\n",
    "assignments = defaultdict(list)\n",
    "qc_df = qc_df.rename({'text':'inputs'}, axis=1)\n",
    "for assigned_users, abstract in zip(qc_df['assigned'].tolist(), \n",
    "                   qc_df[['prediction','multi_label','metadata','inputs']].to_dict(orient='records')):\n",
    "    for user in assigned_users:\n",
    "        assignments[user].append(abstract)"
   ]
  },
  {
   "cell_type": "code",
   "execution_count": 14,
   "metadata": {},
   "outputs": [
    {
     "name": "stdout",
     "output_type": "stream",
     "text": [
      "{'kzheng': 115, 'mramirezmartin': 155, 'echang': 104, 'jvasquez': 199, 'sfraga': 221, 'asamadi': 171, 'prumyantseva': 140, 'lcheng': 150, 'apatel': 195, 'bswitzer': 112, 'ashoemaker': 138, 'mmendoza': 137, 'dfeng': 136, 'kayral': 126, 'acarvalho': 154, 'kamstutz': 112, 'mgallimore': 188, 'lware': 143, 'ayigitkanli': 139, 'haydnturner': 25, 'dongyu_zhang': 25, 'davidkartchner': 25}\n"
     ]
    }
   ],
   "source": [
    "print({key:len(val) for key, val in assignments.items()})"
   ]
  },
  {
   "cell_type": "code",
   "execution_count": 15,
   "metadata": {},
   "outputs": [
    {
     "data": {
      "application/vnd.jupyter.widget-view+json": {
       "model_id": "6ec559728e544d53a7836611f51b0999",
       "version_major": 2,
       "version_minor": 0
      },
      "text/plain": [
       "  0%|          | 0/22 [00:00<?, ?it/s]"
      ]
     },
     "metadata": {},
     "output_type": "display_data"
    },
    {
     "data": {
      "application/vnd.jupyter.widget-view+json": {
       "model_id": "83e3f25ef0cd4765beaebc7bfd42d3de",
       "version_major": 2,
       "version_minor": 0
      },
      "text/plain": [
       "  0%|          | 0/115 [00:00<?, ?it/s]"
      ]
     },
     "metadata": {},
     "output_type": "display_data"
    },
    {
     "name": "stdout",
     "output_type": "stream",
     "text": [
      "115 records logged to http://localhost:6900/ws/qc_stage_1_kzheng/qc_round_2\n"
     ]
    },
    {
     "data": {
      "application/vnd.jupyter.widget-view+json": {
       "model_id": "4679177c49a2417d824784fb4ccf6406",
       "version_major": 2,
       "version_minor": 0
      },
      "text/plain": [
       "  0%|          | 0/155 [00:00<?, ?it/s]"
      ]
     },
     "metadata": {},
     "output_type": "display_data"
    },
    {
     "name": "stdout",
     "output_type": "stream",
     "text": [
      "155 records logged to http://localhost:6900/ws/qc_stage_1_mramirezmartin/qc_round_2\n"
     ]
    },
    {
     "data": {
      "application/vnd.jupyter.widget-view+json": {
       "model_id": "4942cf28a45d409198b772e0d94e694b",
       "version_major": 2,
       "version_minor": 0
      },
      "text/plain": [
       "  0%|          | 0/104 [00:00<?, ?it/s]"
      ]
     },
     "metadata": {},
     "output_type": "display_data"
    },
    {
     "name": "stdout",
     "output_type": "stream",
     "text": [
      "104 records logged to http://localhost:6900/ws/qc_stage_1_echang/qc_round_2\n"
     ]
    },
    {
     "data": {
      "application/vnd.jupyter.widget-view+json": {
       "model_id": "3bdc3f172b7f42948f093874ba315c59",
       "version_major": 2,
       "version_minor": 0
      },
      "text/plain": [
       "  0%|          | 0/199 [00:00<?, ?it/s]"
      ]
     },
     "metadata": {},
     "output_type": "display_data"
    },
    {
     "name": "stdout",
     "output_type": "stream",
     "text": [
      "199 records logged to http://localhost:6900/ws/qc_stage_1_jvasquez/qc_round_2\n"
     ]
    },
    {
     "data": {
      "application/vnd.jupyter.widget-view+json": {
       "model_id": "39778e1b30404b72aa45cbec100816e9",
       "version_major": 2,
       "version_minor": 0
      },
      "text/plain": [
       "  0%|          | 0/221 [00:00<?, ?it/s]"
      ]
     },
     "metadata": {},
     "output_type": "display_data"
    },
    {
     "name": "stdout",
     "output_type": "stream",
     "text": [
      "221 records logged to http://localhost:6900/ws/qc_stage_1_sfraga/qc_round_2\n"
     ]
    },
    {
     "data": {
      "application/vnd.jupyter.widget-view+json": {
       "model_id": "bdbdba5396c5463ca9fbd36c01954301",
       "version_major": 2,
       "version_minor": 0
      },
      "text/plain": [
       "  0%|          | 0/171 [00:00<?, ?it/s]"
      ]
     },
     "metadata": {},
     "output_type": "display_data"
    },
    {
     "name": "stdout",
     "output_type": "stream",
     "text": [
      "171 records logged to http://localhost:6900/ws/qc_stage_1_asamadi/qc_round_2\n"
     ]
    },
    {
     "data": {
      "application/vnd.jupyter.widget-view+json": {
       "model_id": "54223c4480f74a789e4bd7bfda255950",
       "version_major": 2,
       "version_minor": 0
      },
      "text/plain": [
       "  0%|          | 0/140 [00:00<?, ?it/s]"
      ]
     },
     "metadata": {},
     "output_type": "display_data"
    },
    {
     "name": "stdout",
     "output_type": "stream",
     "text": [
      "140 records logged to http://localhost:6900/ws/qc_stage_1_prumyantseva/qc_round_2\n"
     ]
    },
    {
     "data": {
      "application/vnd.jupyter.widget-view+json": {
       "model_id": "f58818907f7f41338d6dc3bf4e372d70",
       "version_major": 2,
       "version_minor": 0
      },
      "text/plain": [
       "  0%|          | 0/150 [00:00<?, ?it/s]"
      ]
     },
     "metadata": {},
     "output_type": "display_data"
    },
    {
     "name": "stdout",
     "output_type": "stream",
     "text": [
      "150 records logged to http://localhost:6900/ws/qc_stage_1_lcheng/qc_round_2\n"
     ]
    },
    {
     "data": {
      "application/vnd.jupyter.widget-view+json": {
       "model_id": "0d2f01d8e51b4a148cd653f77a0f58fa",
       "version_major": 2,
       "version_minor": 0
      },
      "text/plain": [
       "  0%|          | 0/195 [00:00<?, ?it/s]"
      ]
     },
     "metadata": {},
     "output_type": "display_data"
    },
    {
     "name": "stdout",
     "output_type": "stream",
     "text": [
      "195 records logged to http://localhost:6900/ws/qc_stage_1_apatel/qc_round_2\n"
     ]
    },
    {
     "data": {
      "application/vnd.jupyter.widget-view+json": {
       "model_id": "4234a3d72f59440e8c9c7f57ef4f03f3",
       "version_major": 2,
       "version_minor": 0
      },
      "text/plain": [
       "  0%|          | 0/112 [00:00<?, ?it/s]"
      ]
     },
     "metadata": {},
     "output_type": "display_data"
    },
    {
     "name": "stdout",
     "output_type": "stream",
     "text": [
      "112 records logged to http://localhost:6900/ws/qc_stage_1_bswitzer/qc_round_2\n"
     ]
    },
    {
     "data": {
      "application/vnd.jupyter.widget-view+json": {
       "model_id": "6898117795b54f6497c80dd360c97791",
       "version_major": 2,
       "version_minor": 0
      },
      "text/plain": [
       "  0%|          | 0/138 [00:00<?, ?it/s]"
      ]
     },
     "metadata": {},
     "output_type": "display_data"
    },
    {
     "name": "stdout",
     "output_type": "stream",
     "text": [
      "138 records logged to http://localhost:6900/ws/qc_stage_1_ashoemaker/qc_round_2\n"
     ]
    },
    {
     "data": {
      "application/vnd.jupyter.widget-view+json": {
       "model_id": "5afddcc9f1074ce9a2652cb8cd8e892a",
       "version_major": 2,
       "version_minor": 0
      },
      "text/plain": [
       "  0%|          | 0/137 [00:00<?, ?it/s]"
      ]
     },
     "metadata": {},
     "output_type": "display_data"
    },
    {
     "name": "stdout",
     "output_type": "stream",
     "text": [
      "137 records logged to http://localhost:6900/ws/qc_stage_1_mmendoza/qc_round_2\n"
     ]
    },
    {
     "data": {
      "application/vnd.jupyter.widget-view+json": {
       "model_id": "a127c174c1244be0a643e3407855d887",
       "version_major": 2,
       "version_minor": 0
      },
      "text/plain": [
       "  0%|          | 0/136 [00:00<?, ?it/s]"
      ]
     },
     "metadata": {},
     "output_type": "display_data"
    },
    {
     "name": "stdout",
     "output_type": "stream",
     "text": [
      "136 records logged to http://localhost:6900/ws/qc_stage_1_dfeng/qc_round_2\n"
     ]
    },
    {
     "data": {
      "application/vnd.jupyter.widget-view+json": {
       "model_id": "7262fd240ac24cbbbe0517f6b6c6b660",
       "version_major": 2,
       "version_minor": 0
      },
      "text/plain": [
       "  0%|          | 0/126 [00:00<?, ?it/s]"
      ]
     },
     "metadata": {},
     "output_type": "display_data"
    },
    {
     "name": "stdout",
     "output_type": "stream",
     "text": [
      "126 records logged to http://localhost:6900/ws/qc_stage_1_kayral/qc_round_2\n"
     ]
    },
    {
     "data": {
      "application/vnd.jupyter.widget-view+json": {
       "model_id": "8ec88229fb48400c9354d127e2e0c64a",
       "version_major": 2,
       "version_minor": 0
      },
      "text/plain": [
       "  0%|          | 0/154 [00:00<?, ?it/s]"
      ]
     },
     "metadata": {},
     "output_type": "display_data"
    },
    {
     "name": "stdout",
     "output_type": "stream",
     "text": [
      "154 records logged to http://localhost:6900/ws/qc_stage_1_acarvalho/qc_round_2\n"
     ]
    },
    {
     "data": {
      "application/vnd.jupyter.widget-view+json": {
       "model_id": "031db4ab29de459da5ddb3a5b2759672",
       "version_major": 2,
       "version_minor": 0
      },
      "text/plain": [
       "  0%|          | 0/112 [00:00<?, ?it/s]"
      ]
     },
     "metadata": {},
     "output_type": "display_data"
    },
    {
     "name": "stdout",
     "output_type": "stream",
     "text": [
      "112 records logged to http://localhost:6900/ws/qc_stage_1_kamstutz/qc_round_2\n"
     ]
    },
    {
     "data": {
      "application/vnd.jupyter.widget-view+json": {
       "model_id": "65105119d52e472b89761cf15d76d7ab",
       "version_major": 2,
       "version_minor": 0
      },
      "text/plain": [
       "  0%|          | 0/188 [00:00<?, ?it/s]"
      ]
     },
     "metadata": {},
     "output_type": "display_data"
    },
    {
     "name": "stdout",
     "output_type": "stream",
     "text": [
      "188 records logged to http://localhost:6900/ws/qc_stage_1_mgallimore/qc_round_2\n"
     ]
    },
    {
     "data": {
      "application/vnd.jupyter.widget-view+json": {
       "model_id": "37c8bd11c6674e69b94732e1b8a2228a",
       "version_major": 2,
       "version_minor": 0
      },
      "text/plain": [
       "  0%|          | 0/143 [00:00<?, ?it/s]"
      ]
     },
     "metadata": {},
     "output_type": "display_data"
    },
    {
     "name": "stdout",
     "output_type": "stream",
     "text": [
      "143 records logged to http://localhost:6900/ws/qc_stage_1_lware/qc_round_2\n"
     ]
    },
    {
     "data": {
      "application/vnd.jupyter.widget-view+json": {
       "model_id": "67a57a8c3e3c43578000d7036d2ca411",
       "version_major": 2,
       "version_minor": 0
      },
      "text/plain": [
       "  0%|          | 0/139 [00:00<?, ?it/s]"
      ]
     },
     "metadata": {},
     "output_type": "display_data"
    },
    {
     "name": "stdout",
     "output_type": "stream",
     "text": [
      "139 records logged to http://localhost:6900/ws/qc_stage_1_ayigitkanli/qc_round_2\n"
     ]
    },
    {
     "data": {
      "application/vnd.jupyter.widget-view+json": {
       "model_id": "65ef69527e25402b83936bb9c0015585",
       "version_major": 2,
       "version_minor": 0
      },
      "text/plain": [
       "  0%|          | 0/25 [00:00<?, ?it/s]"
      ]
     },
     "metadata": {},
     "output_type": "display_data"
    },
    {
     "name": "stdout",
     "output_type": "stream",
     "text": [
      "25 records logged to http://localhost:6900/ws/qc_stage_1_haydnturner/qc_round_2\n"
     ]
    },
    {
     "data": {
      "application/vnd.jupyter.widget-view+json": {
       "model_id": "7af3936c65a34ef29c816fa9560a34b0",
       "version_major": 2,
       "version_minor": 0
      },
      "text/plain": [
       "  0%|          | 0/25 [00:00<?, ?it/s]"
      ]
     },
     "metadata": {},
     "output_type": "display_data"
    },
    {
     "name": "stdout",
     "output_type": "stream",
     "text": [
      "25 records logged to http://localhost:6900/ws/qc_stage_1_dongyu_zhang/qc_round_2\n"
     ]
    },
    {
     "data": {
      "application/vnd.jupyter.widget-view+json": {
       "model_id": "bb066a25a9c74e72837a743e066ed0b3",
       "version_major": 2,
       "version_minor": 0
      },
      "text/plain": [
       "  0%|          | 0/25 [00:00<?, ?it/s]"
      ]
     },
     "metadata": {},
     "output_type": "display_data"
    },
    {
     "name": "stdout",
     "output_type": "stream",
     "text": [
      "25 records logged to http://localhost:6900/ws/qc_stage_1_davidkartchner/qc_round_2\n"
     ]
    }
   ],
   "source": [
    "# Upload abstracts to rubrix\n",
    "qc_logfile = '/nethome/dkartchner3/annotation/rubrix/pmid_logs/qc_uploaded.txt'\n",
    "for user, abstract_list in tqdm(assignments.items()):\n",
    "    workspace = 'qc_stage_1_' + user\n",
    "    rb.init(\"http://localhost:6900/\", api_key=rubrix_api_key)\n",
    "    rb.set_workspace(workspace)\n",
    "    pmids = [abstract['metadata']['pmid'] for abstract in abstract_list]\n",
    "    records = [rb.TextClassificationRecord(**abstract) for abstract in abstract_list]\n",
    "    rb.log(\n",
    "        records=records,\n",
    "        name='qc_round_2',\n",
    "        tags={\n",
    "            \"task\": \"multilabel-text-classification\",\n",
    "            \"family\": \"text-classification\",\n",
    "            \"dataset\": \"spring_2022_stage_1_qc_round_2\",\n",
    "        },\n",
    "    )\n",
    "    \n",
    "    with open(qc_logfile, 'a') as f:\n",
    "        for r in pmids:\n",
    "            f.write(r + '\\n')\n"
   ]
  }
 ],
 "metadata": {
  "interpreter": {
   "hash": "3f590bcdc224e43a4139fd3eefb7ffb5ae4b2296e534ce134ea4a7d82773226f"
  },
  "kernelspec": {
   "display_name": "Python [default]",
   "language": "python",
   "name": "python3"
  },
  "language_info": {
   "codemirror_mode": {
    "name": "ipython",
    "version": 3
   },
   "file_extension": ".py",
   "mimetype": "text/x-python",
   "name": "python",
   "nbconvert_exporter": "python",
   "pygments_lexer": "ipython3",
   "version": "3.9.0"
  }
 },
 "nbformat": 4,
 "nbformat_minor": 2
}
